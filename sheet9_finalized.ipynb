{
  "nbformat": 4,
  "nbformat_minor": 0,
  "metadata": {
    "colab": {
      "name": "sheet9.ipynb",
      "provenance": []
    },
    "kernelspec": {
      "name": "python3",
      "display_name": "Python 3"
    },
    "language_info": {
      "name": "python"
    }
  },
  "cells": [
    {
      "cell_type": "code",
      "execution_count": 40,
      "metadata": {
        "id": "rCHNh31zLVU8"
      },
      "outputs": [],
      "source": [
        "import os\n",
        "import glob\n",
        "import imageio\n",
        "import matplotlib.pyplot as plt\n",
        "import numpy as np\n",
        "import PIL\n",
        "import time\n",
        "import datetime\n",
        "from IPython import display\n",
        "import tensorflow as tf\n",
        "import tensorflow_datasets as tfds\n",
        "import matplotlib.pyplot as plt\n",
        "import numpy as np "
      ]
    },
    {
      "cell_type": "code",
      "source": [
        "import urllib\n",
        "categories = [line.rstrip(b'\\n') for line in urllib.request.urlopen('https://raw.githubusercontent.com/googlecreativelab/quickdraw-dataset/master/categories.txt')]\n",
        "print(categories[:10])\n",
        "category = 'candle'"
      ],
      "metadata": {
        "colab": {
          "base_uri": "https://localhost:8080/"
        },
        "id": "hiP_EBZuLb8a",
        "outputId": "2af4bb7b-09ba-4e90-efde-2439ad647d6e"
      },
      "execution_count": 41,
      "outputs": [
        {
          "output_type": "stream",
          "name": "stdout",
          "text": [
            "[b'aircraft carrier', b'airplane', b'alarm clock', b'ambulance', b'angel', b'animal migration', b'ant', b'anvil', b'apple', b'arm']\n"
          ]
        }
      ]
    },
    {
      "cell_type": "code",
      "source": [
        "# Creates a folder to download the original drawings into.\n",
        "# We chose to use the numpy format : 1x784 pixel vectors, with values going from 0 (white) to 255 (black). We reshape them later to 28x28 grids and normalize the pixel intensity to [-1, 1]\n",
        "\n",
        "if not os.path.isdir('npy_files'):\n",
        "    os.mkdir('npy_files')\n",
        "    \n",
        "url = f'https://storage.googleapis.com/quickdraw_dataset/full/numpy_bitmap/{category}.npy'  \n",
        "urllib.request.urlretrieve(url, f'npy_files/{category}.npy')\n",
        "\n",
        "images = np.load(f'npy_files/{category}.npy')\n",
        "print(f'{len(images)} images to train on')\n",
        "\n",
        "# You can limit the amount of images you use for training by setting :\n",
        "train_images = images[:10000]\n",
        "# You should also define a samller subset of the images for testing..\n",
        "# TODO\n",
        "test_images = images[10000:12000]\n",
        "\n",
        "# Notice that this to numpy format contains 1x784 pixel vectors, with values going from 0 (white) to 255 (black). We reshape them later to 28x28 grids and normalize the pixel intensity to [-1, 1]"
      ],
      "metadata": {
        "colab": {
          "base_uri": "https://localhost:8080/"
        },
        "id": "QI4o_ybqLdwP",
        "outputId": "91081872-4490-4190-f300-b0cb901cc77e"
      },
      "execution_count": 42,
      "outputs": [
        {
          "output_type": "stream",
          "name": "stdout",
          "text": [
            "141545 images to train on\n"
          ]
        }
      ]
    },
    {
      "cell_type": "code",
      "source": [
        "# create training and test tf.datasets\n",
        "train_ds = tf.data.Dataset.from_tensor_slices(train_images)\n",
        "test_ds = tf.data.Dataset.from_tensor_slices(test_images)"
      ],
      "metadata": {
        "id": "vg4wgjdALfRf"
      },
      "execution_count": 43,
      "outputs": []
    },
    {
      "cell_type": "code",
      "source": [
        "# print original and wanted shape and show image \n",
        "temp = test_ds.take(1)\n",
        "print(temp)\n",
        "temp = temp.map(lambda image: (tf.cast(tf.reshape(image, [28,28,1]), tf.float32)))\n",
        "print(temp)\n",
        "for elem in temp:\n",
        "  plt.imshow(elem[ :, :, 0])"
      ],
      "metadata": {
        "colab": {
          "base_uri": "https://localhost:8080/",
          "height": 300
        },
        "id": "VdCx1iO4IcpH",
        "outputId": "87333229-73fb-45a2-bda6-2dd343de158f"
      },
      "execution_count": 44,
      "outputs": [
        {
          "output_type": "stream",
          "name": "stdout",
          "text": [
            "<TakeDataset shapes: (784,), types: tf.uint8>\n",
            "<MapDataset shapes: (28, 28, 1), types: tf.float32>\n"
          ]
        },
        {
          "output_type": "display_data",
          "data": {
            "image/png": "[encoded data removed]",
            "text/plain": [
              "<Figure size 432x288 with 1 Axes>"
            ]
          },
          "metadata": {
            "needs_background": "light"
          }
        }
      ]
    },
    {
      "cell_type": "code",
      "source": [
        "def prepare(ds):   \n",
        "  # Prepare data for model  \n",
        "  ds = ds.map(lambda img: (tf.cast(img, tf.float32)))\n",
        "  ds = ds.map(lambda img:(tf.reshape(img, [28,28,1])))\n",
        "  ds = ds.map(lambda img: ((img/128.)-1.))  \n",
        "  # cache \n",
        "  ds = ds.cache()\n",
        "  # shuffle, batch, prefetch our dataset\n",
        "  ds = ds.shuffle(5000)\n",
        "  ds = ds.batch(256)\n",
        "  ds = ds.prefetch(1024)\n",
        "  return ds"
      ],
      "metadata": {
        "id": "UQROeWaDPULl"
      },
      "execution_count": 45,
      "outputs": []
    },
    {
      "cell_type": "code",
      "source": [
        "train_ds = prepare(train_ds)\n",
        "test_ds = prepare(test_ds)"
      ],
      "metadata": {
        "id": "XI4acCMPPiq6"
      },
      "execution_count": 46,
      "outputs": []
    },
    {
      "cell_type": "code",
      "source": [
        "from tensorflow.keras.models import Model\n",
        "from tensorflow.keras import layers\n",
        "from tensorflow.keras.layers import Dense, Conv2D, Flatten, Reshape, Conv2DTranspose, MaxPool2D, Dropout, BatchNormalization, LeakyReLU"
      ],
      "metadata": {
        "id": "WSsdo9509HtO"
      },
      "execution_count": 47,
      "outputs": []
    },
    {
      "cell_type": "code",
      "source": [
        "class Discriminator(Model):\n",
        "\n",
        "  def __init__(self):\n",
        "    super(Discriminator, self).__init__()\n",
        "\n",
        "    # list of loss and accuracy for training \n",
        "    self.metrics_list = [\n",
        "      tf.keras.metrics.Mean(name=\"disc_loss\"),\n",
        "      tf.keras.metrics.BinaryAccuracy(name=\"disc_acc\") ]\n",
        "\n",
        "    self.discriminator = [\n",
        "      Conv2D(32, (3,3), strides=(2, 2), activation='relu', padding='same', input_shape=[28, 28, 1]),\n",
        "      BatchNormalization(),\n",
        "      Dropout(0.3),\n",
        "\n",
        "      Conv2D(64, (3,3), activation='relu', strides=(2, 2), padding='same'),\n",
        "      BatchNormalization(),\n",
        "      Dropout(0.3),\n",
        "\n",
        "      Conv2D(32, (3,3), activation='relu', strides=(2, 2), padding='same'),\n",
        "      BatchNormalization(),\n",
        "      Dropout(0.3),\n",
        "      \n",
        "      Flatten(),\n",
        "      Dense(1, activation='sigmoid')\n",
        "      ]\n",
        "  \n",
        "  @tf.function\n",
        "  def call(self, x, training=True):\n",
        "\n",
        "    for layer in self.discriminator:\n",
        "      x = layer(x, training=training)\n",
        "    return x\n",
        "\n",
        "  # function to reset the metric values\n",
        "  def reset_metrics(self):\n",
        "      for metric in self.metrics:\n",
        "          metric.reset_states()"
      ],
      "metadata": {
        "id": "cNbsmY8_Sf2K"
      },
      "execution_count": 48,
      "outputs": []
    },
    {
      "cell_type": "code",
      "source": [
        "class Generator(Model):\n",
        "\n",
        "  def __init__(self):\n",
        "    super(Generator, self).__init__()\n",
        "\n",
        "    # list of loss and accuracy for training \n",
        "    self.metrics_list = [\n",
        "      tf.keras.metrics.Mean(name=\"gen_loss\"),\n",
        "      tf.keras.metrics.BinaryAccuracy(name=\"gen_acc\") ]\n",
        "\n",
        "    self.generator = [\n",
        "      Dense(7*7*256, use_bias=False, input_shape=(100,)),\n",
        "      BatchNormalization(),\n",
        "      LeakyReLU(),\n",
        "\n",
        "      Reshape((7,7,256)),\n",
        "\n",
        "      Conv2DTranspose(64, (2,2), strides=(1,1), padding='same'),\n",
        "      BatchNormalization(),\n",
        "      LeakyReLU(),\n",
        "\n",
        "      Conv2DTranspose(128, (2,2), strides=(2,2), padding='same'),\n",
        "      BatchNormalization(),\n",
        "      LeakyReLU(),\n",
        "\n",
        "      Conv2DTranspose(128, (2,2), strides=(1,1), padding='same'),\n",
        "      BatchNormalization(),\n",
        "      LeakyReLU(),\n",
        "\n",
        "      Conv2DTranspose(64, (2,2), strides=(1,1), padding='same'),\n",
        "      BatchNormalization(),\n",
        "      LeakyReLU(),\n",
        "      \n",
        "      Conv2DTranspose(filters= 1, kernel_size=(3, 3), strides=(2, 2), padding='same', use_bias=False, activation='tanh')\n",
        "      ]\n",
        "\n",
        "  @tf.function\n",
        "  def call(self, x, training=True):\n",
        "\n",
        "    for layer in self.generator:\n",
        "      x = layer(x, training=training)\n",
        "    return x\n",
        "\n",
        "  # function to reset the metric values\n",
        "  def reset_metrics(self):\n",
        "      for metric in self.metrics:\n",
        "          metric.reset_states()"
      ],
      "metadata": {
        "id": "8PgddLiG_eqd"
      },
      "execution_count": 49,
      "outputs": []
    },
    {
      "cell_type": "code",
      "source": [
        "# test generator\n",
        "sample_generator = Generator()\n",
        "\n",
        "generated_image = sample_generator(tf.random.normal([1, 100]), training=False)\n",
        "\n",
        "plt.imshow(generated_image[0, :, :, 0])"
      ],
      "metadata": {
        "colab": {
          "base_uri": "https://localhost:8080/",
          "height": 282
        },
        "id": "v1sBIoMRm6fa",
        "outputId": "e7749b96-647c-495c-df1a-a9ed28b520cb"
      },
      "execution_count": 50,
      "outputs": [
        {
          "output_type": "execute_result",
          "data": {
            "text/plain": [
              "<matplotlib.image.AxesImage at 0x7f27cc279050>"
            ]
          },
          "metadata": {},
          "execution_count": 50
        },
        {
          "output_type": "display_data",
          "data": {
            "image/png": "[encoded data removed]",
            "text/plain": [
              "<Figure size 432x288 with 1 Axes>"
            ]
          },
          "metadata": {
            "needs_background": "light"
          }
        }
      ]
    },
    {
      "cell_type": "code",
      "source": [
        "#test discriminator on generated image\n",
        "test_discriminator = Discriminator()\n",
        "result = test_discriminator(generated_image)\n",
        "print(result)"
      ],
      "metadata": {
        "colab": {
          "base_uri": "https://localhost:8080/"
        },
        "id": "usmtkYc4rDNq",
        "outputId": "805e607f-1b97-4688-f735-76013a1de5b4"
      },
      "execution_count": 51,
      "outputs": [
        {
          "output_type": "stream",
          "name": "stdout",
          "text": [
            "tf.Tensor([[0.23463422]], shape=(1, 1), dtype=float32)\n"
          ]
        }
      ]
    },
    {
      "cell_type": "code",
      "source": [
        "def generate_image(model, epoch, test_input):\n",
        "  # `training` set to False.\n",
        "  # This is so all layers run in inference mode (batchnorm)\n",
        "\n",
        "  # get image from generator\n",
        "  predictions = model(test_input, training=False)\n",
        "\n",
        "  # plot image\n",
        "  fig = plt.figure(figsize=(4, 4))\n",
        "\n",
        "  for i in range(predictions.shape[0]):\n",
        "      plt.subplot(4, 4, i+1)\n",
        "      plt.imshow(predictions[i, :, :, 0] * 127.5 + 127.5)\n",
        "      plt.axis('off')\n",
        "  plt.show()"
      ],
      "metadata": {
        "id": "rWzlDhjQuSrZ"
      },
      "execution_count": 52,
      "outputs": []
    },
    {
      "cell_type": "code",
      "source": [
        "def discriminator_loss(real_output, fake_output, loss_func):\n",
        "  # compute loss for discriminator\n",
        "  real_loss = loss_func(tf.ones_like(real_output), real_output)\n",
        "  fake_loss = loss_func(tf.zeros_like(fake_output), fake_output)\n",
        "  total_loss = real_loss + fake_loss\n",
        "  return total_loss\n",
        "\n",
        "def generator_loss(fake_output, loss_func):\n",
        "  # compute loss for generator\n",
        "  return loss_func(tf.ones_like(fake_output), fake_output)"
      ],
      "metadata": {
        "id": "uckZlmtpBhac"
      },
      "execution_count": 53,
      "outputs": []
    },
    {
      "cell_type": "code",
      "source": [
        "@tf.function\n",
        "def train_step(images, loss_func):\n",
        "    noise = tf.random.normal([BATCH_SIZE, noise_dim])\n",
        "\n",
        "    with tf.GradientTape() as gen_tape, tf.GradientTape() as disc_tape:\n",
        "      generated_images = generator(noise)\n",
        "\n",
        "      real_output = discriminator(images)\n",
        "      fake_output = discriminator(generated_images)\n",
        "\n",
        "      gen_loss = generator_loss(fake_output, loss_func)\n",
        "      disc_loss = discriminator_loss(real_output, fake_output, loss_func)\n",
        "\n",
        "    gradients_of_generator = gen_tape.gradient(gen_loss, generator.trainable_variables)\n",
        "    gradients_of_discriminator = disc_tape.gradient(disc_loss, discriminator.trainable_variables)\n",
        "\n",
        "    gen_optimizer.apply_gradients(zip(gradients_of_generator, generator.trainable_variables))\n",
        "    disc_optimizer.apply_gradients(zip(gradients_of_discriminator, discriminator.trainable_variables))\n",
        "\n",
        "    # update loss metric\n",
        "    discriminator.metrics[0].update_state(disc_loss)\n",
        "    generator.metrics[0].update_state(gen_loss)\n",
        "    \n",
        "    # for all metrics except loss, update states (accuracy etc.)\n",
        "    for metric in discriminator.metrics[1:]:\n",
        "      metric.update_state(tf.ones_like(real_output), real_output)\n",
        "      metric.update_state(tf.zeros_like(fake_output), fake_output)\n",
        "    \n",
        "    for metric in generator.metrics[1:]:\n",
        "      metric.update_state(tf.ones_like(fake_output), fake_output)\n",
        "\n",
        "    # Return a dictionary mapping metric names to current value\n",
        "    disc_metrics = {m.name: m.result() for m in discriminator.metrics}\n",
        "    gen_metrics = {m.name: m.result() for m in generator.metrics}\n",
        "    return  gen_metrics , disc_metrics\n",
        "\n",
        "def test_step(images, loss_func):\n",
        "  generated_images = generator(noise, training=False)\n",
        "  \n",
        "  real_output = discriminator(images, training=False)\n",
        "  fake_output = discriminator(generated_images, training=False)\n",
        "\n",
        "  gen_loss = generator_loss(fake_output, loss_func)\n",
        "\n",
        "  disc_loss = discriminator_loss(real_output, fake_output, loss_func)\n",
        "\n",
        "  # update loss metric\n",
        "  discriminator.metrics[0].update_state(disc_loss)\n",
        "  generator.metrics[0].update_state(gen_loss)\n",
        "  \n",
        "  # for all metrics except loss, update states (accuracy etc.)\n",
        "  for metric in discriminator.metrics[1:]:\n",
        "    metric.update_state(tf.ones_like(real_output), real_output)\n",
        "    metric.update_state(tf.zeros_like(fake_output), fake_output)\n",
        "  \n",
        "  for metric in generator.metrics[1:]:\n",
        "    metric.update_state(tf.ones_like(fake_output), fake_output)\n",
        "\n",
        "  # Return a dictionary mapping metric names to current value\n",
        "  disc_metrics = {m.name: m.result() for m in discriminator.metrics}\n",
        "  gen_metrics = {m.name: m.result() for m in generator.metrics}\n",
        "\n",
        "  return  gen_metrics , disc_metrics"
      ],
      "metadata": {
        "id": "bbpfkAYkHtLf"
      },
      "execution_count": 54,
      "outputs": []
    },
    {
      "cell_type": "code",
      "source": [
        "tf.keras.backend.clear_session()\n",
        "def training(train_data, test_data, loss_function, epochs):\n",
        "  # train models\n",
        "  for epoch in range(epochs):\n",
        "    print()\n",
        "    print(f\"Epoch {epoch}:\")\n",
        "    \n",
        "    for data in train_data:\n",
        "        gen_metrics, disc_metrics = train_step(data, loss_function)\n",
        "                                    \n",
        "    print(\"Discriminator\")\n",
        "    print([f\"{key}: {value}\" for (key, value) in zip(list(disc_metrics.keys()), list(disc_metrics.values()))])\n",
        "    print(\"Generator\")\n",
        "    print([f\"{key}: {value}\" for (key, value) in zip(list(gen_metrics.keys()), list(gen_metrics.values()))])\n",
        "    \n",
        "    # logging the validation metrics to the log file with tensorboard\n",
        "    with train_summary_writer.as_default():\n",
        "        for metric in generator.metrics:\n",
        "            tf.summary.scalar(f\"{metric.name}\", metric.result(), step=epoch)\n",
        "        for metric in discriminator.metrics:\n",
        "            tf.summary.scalar(f\"{metric.name}\", metric.result(), step=epoch)\n",
        "        \n",
        "    \n",
        "    # reset metrics in models\n",
        "    discriminator.reset_metrics()\n",
        "    generator.reset_metrics()\n",
        "    \n",
        "    # test models\n",
        "    for data in test_data:\n",
        "        gen_metrics, disc_metrics = test_step(data, loss_function)\n",
        "                                \n",
        "    print(\"Discriminator\")\n",
        "    print([f\"test_{key}: {value}\" for (key, value) in zip(list(disc_metrics.keys()), list(disc_metrics.values()))])\n",
        "    print(\"Generator\")\n",
        "    print([f\"test_{key}: {value}\" for (key, value) in zip(list(gen_metrics.keys()), list(gen_metrics.values()))])\n",
        "\n",
        "    # show generated images                                              \n",
        "    generate_image(generator, epoch + 1, seed)\n",
        "    \n",
        "    # logging the validation metrics to the log file with tensorboard\n",
        "    with val_summary_writer.as_default():\n",
        "        for metric in generator.metrics:\n",
        "            tf.summary.scalar(f\"{metric.name}\", metric.result(), step=epoch)\n",
        "        for metric in discriminator.metrics:\n",
        "            tf.summary.scalar(f\"{metric.name}\", metric.result(), step=epoch)\n",
        "    \n",
        "    # reset metrics in models\n",
        "    discriminator.reset_metrics()\n",
        "    generator.reset_metrics()"
      ],
      "metadata": {
        "id": "noS2hNs4BxgB"
      },
      "execution_count": 55,
      "outputs": []
    },
    {
      "cell_type": "code",
      "source": [
        "# initialize models \n",
        "generator = Generator()\n",
        "discriminator = Discriminator()\n",
        "\n",
        "# hyperparameters\n",
        "BATCH_SIZE = 256\n",
        "\n",
        "EPOCHS = 50\n",
        "\n",
        "LOSS_FUNC = tf.keras.losses.BinaryCrossentropy()\n",
        "\n",
        "gen_optimizer = tf.keras.optimizers.Adam(0.001)\n",
        "disc_optimizer = tf.keras.optimizers.Adam(0.001)\n",
        "\n",
        "# additional parameters for noise creation\n",
        "noise_dim = 100\n",
        "num_examples_to_generate = 4\n",
        "\n",
        "noise = tf.random.normal([1, 100])\n",
        "seed = tf.random.normal([num_examples_to_generate, noise_dim])"
      ],
      "metadata": {
        "id": "OshOkiy1gaG7"
      },
      "execution_count": 56,
      "outputs": []
    },
    {
      "cell_type": "code",
      "source": [
        "# Define saving location for log\n",
        "hyperparameter_string= f\"Trial:02_BATCH:{BATCH_SIZE}_EPOCH:{EPOCHS}_Adam\"\n",
        "current_time = datetime.datetime.now().strftime(\"%Y%m%d-%H%M%S\")\n",
        "\n",
        "train_log_path = f\"logs/{hyperparameter_string}/{current_time}/train\"\n",
        "val_log_path = f\"logs/{hyperparameter_string}/{current_time}/val\"\n",
        "\n",
        "# log writer for training metrics\n",
        "train_summary_writer = tf.summary.create_file_writer(train_log_path)\n",
        "\n",
        "# log writer for validation metrics\n",
        "val_summary_writer = tf.summary.create_file_writer(val_log_path)"
      ],
      "metadata": {
        "id": "ePgpBH8qRVLN"
      },
      "execution_count": 57,
      "outputs": []
    },
    {
      "cell_type": "code",
      "source": [
        "# train the GAN \n",
        "training(train_ds, test_ds, LOSS_FUNC, EPOCHS)"
      ],
      "metadata": {
        "colab": {
          "base_uri": "https://localhost:8080/",
          "height": 598
        },
        "id": "fZNEaBNOIMaD",
        "outputId": "b5a2a9ac-70a7-4909-a8f2-04c834d7f76f"
      },
      "execution_count": 58,
      "outputs": [
        {
          "output_type": "stream",
          "name": "stdout",
          "text": [
            "\n",
            "Epoch 0:\n",
            "Discriminator\n",
            "['disc_loss: 1.2992302179336548', 'disc_acc: 0.6890810132026672']\n",
            "Generator\n",
            "['gen_loss: 0.86109459400177', 'gen_acc: 0.5711914300918579']\n",
            "Discriminator\n",
            "['test_disc_loss: 1.300290822982788', 'test_disc_acc: 0.0039840638637542725']\n",
            "Generator\n",
            "['test_gen_loss: 1.5418366193771362', 'test_gen_acc: 0.0']\n"
          ]
        },
        {
          "output_type": "display_data",
          "data": {
            "image/png": "[encoded data removed]",
            "text/plain": [
              "<Figure size 288x288 with 4 Axes>"
            ]
          },
          "metadata": {
            "needs_background": "light"
          }
        },
        {
          "output_type": "stream",
          "name": "stdout",
          "text": [
            "\n",
            "Epoch 1:\n"
          ]
        },
        {
          "output_type": "error",
          "ename": "KeyboardInterrupt",
          "evalue": "ignored",
          "traceback": [
            "\u001b[0;31m---------------------------------------------------------------------------\u001b[0m",
            "\u001b[0;31mKeyboardInterrupt\u001b[0m                         Traceback (most recent call last)",
            "\u001b[0;32m<ipython-input-58-5446c75cda16>\u001b[0m in \u001b[0;36m<module>\u001b[0;34m()\u001b[0m\n\u001b[1;32m      1\u001b[0m \u001b[0;31m# train the GAN\u001b[0m\u001b[0;34m\u001b[0m\u001b[0;34m\u001b[0m\u001b[0;34m\u001b[0m\u001b[0m\n\u001b[0;32m----> 2\u001b[0;31m \u001b[0mtraining\u001b[0m\u001b[0;34m(\u001b[0m\u001b[0mtrain_ds\u001b[0m\u001b[0;34m,\u001b[0m \u001b[0mtest_ds\u001b[0m\u001b[0;34m,\u001b[0m \u001b[0mLOSS_FUNC\u001b[0m\u001b[0;34m,\u001b[0m \u001b[0mEPOCHS\u001b[0m\u001b[0;34m)\u001b[0m\u001b[0;34m\u001b[0m\u001b[0;34m\u001b[0m\u001b[0m\n\u001b[0m",
            "\u001b[0;32m<ipython-input-55-318af369a4ed>\u001b[0m in \u001b[0;36mtraining\u001b[0;34m(train_data, test_data, loss_function, epochs)\u001b[0m\n\u001b[1;32m      7\u001b[0m \u001b[0;34m\u001b[0m\u001b[0m\n\u001b[1;32m      8\u001b[0m     \u001b[0;32mfor\u001b[0m \u001b[0mdata\u001b[0m \u001b[0;32min\u001b[0m \u001b[0mtrain_data\u001b[0m\u001b[0;34m:\u001b[0m\u001b[0;34m\u001b[0m\u001b[0;34m\u001b[0m\u001b[0m\n\u001b[0;32m----> 9\u001b[0;31m         \u001b[0mgen_metrics\u001b[0m\u001b[0;34m,\u001b[0m \u001b[0mdisc_metrics\u001b[0m \u001b[0;34m=\u001b[0m \u001b[0mtrain_step\u001b[0m\u001b[0;34m(\u001b[0m\u001b[0mdata\u001b[0m\u001b[0;34m,\u001b[0m \u001b[0mloss_function\u001b[0m\u001b[0;34m)\u001b[0m\u001b[0;34m\u001b[0m\u001b[0;34m\u001b[0m\u001b[0m\n\u001b[0m\u001b[1;32m     10\u001b[0m \u001b[0;34m\u001b[0m\u001b[0m\n\u001b[1;32m     11\u001b[0m     \u001b[0mprint\u001b[0m\u001b[0;34m(\u001b[0m\u001b[0;34m\"Discriminator\"\u001b[0m\u001b[0;34m)\u001b[0m\u001b[0;34m\u001b[0m\u001b[0;34m\u001b[0m\u001b[0m\n",
            "\u001b[0;32m/usr/local/lib/python3.7/dist-packages/tensorflow/python/util/traceback_utils.py\u001b[0m in \u001b[0;36merror_handler\u001b[0;34m(*args, **kwargs)\u001b[0m\n\u001b[1;32m    148\u001b[0m     \u001b[0mfiltered_tb\u001b[0m \u001b[0;34m=\u001b[0m \u001b[0;32mNone\u001b[0m\u001b[0;34m\u001b[0m\u001b[0;34m\u001b[0m\u001b[0m\n\u001b[1;32m    149\u001b[0m     \u001b[0;32mtry\u001b[0m\u001b[0;34m:\u001b[0m\u001b[0;34m\u001b[0m\u001b[0;34m\u001b[0m\u001b[0m\n\u001b[0;32m--> 150\u001b[0;31m       \u001b[0;32mreturn\u001b[0m \u001b[0mfn\u001b[0m\u001b[0;34m(\u001b[0m\u001b[0;34m*\u001b[0m\u001b[0margs\u001b[0m\u001b[0;34m,\u001b[0m \u001b[0;34m**\u001b[0m\u001b[0mkwargs\u001b[0m\u001b[0;34m)\u001b[0m\u001b[0;34m\u001b[0m\u001b[0;34m\u001b[0m\u001b[0m\n\u001b[0m\u001b[1;32m    151\u001b[0m     \u001b[0;32mexcept\u001b[0m \u001b[0mException\u001b[0m \u001b[0;32mas\u001b[0m \u001b[0me\u001b[0m\u001b[0;34m:\u001b[0m\u001b[0;34m\u001b[0m\u001b[0;34m\u001b[0m\u001b[0m\n\u001b[1;32m    152\u001b[0m       \u001b[0mfiltered_tb\u001b[0m \u001b[0;34m=\u001b[0m \u001b[0m_process_traceback_frames\u001b[0m\u001b[0;34m(\u001b[0m\u001b[0me\u001b[0m\u001b[0;34m.\u001b[0m\u001b[0m__traceback__\u001b[0m\u001b[0;34m)\u001b[0m\u001b[0;34m\u001b[0m\u001b[0;34m\u001b[0m\u001b[0m\n",
            "\u001b[0;32m/usr/local/lib/python3.7/dist-packages/tensorflow/python/eager/def_function.py\u001b[0m in \u001b[0;36m__call__\u001b[0;34m(self, *args, **kwds)\u001b[0m\n\u001b[1;32m    908\u001b[0m \u001b[0;34m\u001b[0m\u001b[0m\n\u001b[1;32m    909\u001b[0m       \u001b[0;32mwith\u001b[0m \u001b[0mOptionalXlaContext\u001b[0m\u001b[0;34m(\u001b[0m\u001b[0mself\u001b[0m\u001b[0;34m.\u001b[0m\u001b[0m_jit_compile\u001b[0m\u001b[0;34m)\u001b[0m\u001b[0;34m:\u001b[0m\u001b[0;34m\u001b[0m\u001b[0;34m\u001b[0m\u001b[0m\n\u001b[0;32m--> 910\u001b[0;31m         \u001b[0mresult\u001b[0m \u001b[0;34m=\u001b[0m \u001b[0mself\u001b[0m\u001b[0;34m.\u001b[0m\u001b[0m_call\u001b[0m\u001b[0;34m(\u001b[0m\u001b[0;34m*\u001b[0m\u001b[0margs\u001b[0m\u001b[0;34m,\u001b[0m \u001b[0;34m**\u001b[0m\u001b[0mkwds\u001b[0m\u001b[0;34m)\u001b[0m\u001b[0;34m\u001b[0m\u001b[0;34m\u001b[0m\u001b[0m\n\u001b[0m\u001b[1;32m    911\u001b[0m \u001b[0;34m\u001b[0m\u001b[0m\n\u001b[1;32m    912\u001b[0m       \u001b[0mnew_tracing_count\u001b[0m \u001b[0;34m=\u001b[0m \u001b[0mself\u001b[0m\u001b[0;34m.\u001b[0m\u001b[0mexperimental_get_tracing_count\u001b[0m\u001b[0;34m(\u001b[0m\u001b[0;34m)\u001b[0m\u001b[0;34m\u001b[0m\u001b[0;34m\u001b[0m\u001b[0m\n",
            "\u001b[0;32m/usr/local/lib/python3.7/dist-packages/tensorflow/python/eager/def_function.py\u001b[0m in \u001b[0;36m_call\u001b[0;34m(self, *args, **kwds)\u001b[0m\n\u001b[1;32m    940\u001b[0m       \u001b[0;31m# In this case we have created variables on the first call, so we run the\u001b[0m\u001b[0;34m\u001b[0m\u001b[0;34m\u001b[0m\u001b[0;34m\u001b[0m\u001b[0m\n\u001b[1;32m    941\u001b[0m       \u001b[0;31m# defunned version which is guaranteed to never create variables.\u001b[0m\u001b[0;34m\u001b[0m\u001b[0;34m\u001b[0m\u001b[0;34m\u001b[0m\u001b[0m\n\u001b[0;32m--> 942\u001b[0;31m       \u001b[0;32mreturn\u001b[0m \u001b[0mself\u001b[0m\u001b[0;34m.\u001b[0m\u001b[0m_stateless_fn\u001b[0m\u001b[0;34m(\u001b[0m\u001b[0;34m*\u001b[0m\u001b[0margs\u001b[0m\u001b[0;34m,\u001b[0m \u001b[0;34m**\u001b[0m\u001b[0mkwds\u001b[0m\u001b[0;34m)\u001b[0m  \u001b[0;31m# pylint: disable=not-callable\u001b[0m\u001b[0;34m\u001b[0m\u001b[0;34m\u001b[0m\u001b[0m\n\u001b[0m\u001b[1;32m    943\u001b[0m     \u001b[0;32melif\u001b[0m \u001b[0mself\u001b[0m\u001b[0;34m.\u001b[0m\u001b[0m_stateful_fn\u001b[0m \u001b[0;32mis\u001b[0m \u001b[0;32mnot\u001b[0m \u001b[0;32mNone\u001b[0m\u001b[0;34m:\u001b[0m\u001b[0;34m\u001b[0m\u001b[0;34m\u001b[0m\u001b[0m\n\u001b[1;32m    944\u001b[0m       \u001b[0;31m# Release the lock early so that multiple threads can perform the call\u001b[0m\u001b[0;34m\u001b[0m\u001b[0;34m\u001b[0m\u001b[0;34m\u001b[0m\u001b[0m\n",
            "\u001b[0;32m/usr/local/lib/python3.7/dist-packages/tensorflow/python/eager/function.py\u001b[0m in \u001b[0;36m__call__\u001b[0;34m(self, *args, **kwargs)\u001b[0m\n\u001b[1;32m   3129\u001b[0m        filtered_flat_args) = self._maybe_define_function(args, kwargs)\n\u001b[1;32m   3130\u001b[0m     return graph_function._call_flat(\n\u001b[0;32m-> 3131\u001b[0;31m         filtered_flat_args, captured_inputs=graph_function.captured_inputs)  # pylint: disable=protected-access\n\u001b[0m\u001b[1;32m   3132\u001b[0m \u001b[0;34m\u001b[0m\u001b[0m\n\u001b[1;32m   3133\u001b[0m   \u001b[0;34m@\u001b[0m\u001b[0mproperty\u001b[0m\u001b[0;34m\u001b[0m\u001b[0;34m\u001b[0m\u001b[0m\n",
            "\u001b[0;32m/usr/local/lib/python3.7/dist-packages/tensorflow/python/eager/function.py\u001b[0m in \u001b[0;36m_call_flat\u001b[0;34m(self, args, captured_inputs, cancellation_manager)\u001b[0m\n\u001b[1;32m   1958\u001b[0m       \u001b[0;31m# No tape is watching; skip to running the function.\u001b[0m\u001b[0;34m\u001b[0m\u001b[0;34m\u001b[0m\u001b[0;34m\u001b[0m\u001b[0m\n\u001b[1;32m   1959\u001b[0m       return self._build_call_outputs(self._inference_function.call(\n\u001b[0;32m-> 1960\u001b[0;31m           ctx, args, cancellation_manager=cancellation_manager))\n\u001b[0m\u001b[1;32m   1961\u001b[0m     forward_backward = self._select_forward_and_backward_functions(\n\u001b[1;32m   1962\u001b[0m         \u001b[0margs\u001b[0m\u001b[0;34m,\u001b[0m\u001b[0;34m\u001b[0m\u001b[0;34m\u001b[0m\u001b[0m\n",
            "\u001b[0;32m/usr/local/lib/python3.7/dist-packages/tensorflow/python/eager/function.py\u001b[0m in \u001b[0;36mcall\u001b[0;34m(self, ctx, args, cancellation_manager)\u001b[0m\n\u001b[1;32m    601\u001b[0m               \u001b[0minputs\u001b[0m\u001b[0;34m=\u001b[0m\u001b[0margs\u001b[0m\u001b[0;34m,\u001b[0m\u001b[0;34m\u001b[0m\u001b[0;34m\u001b[0m\u001b[0m\n\u001b[1;32m    602\u001b[0m               \u001b[0mattrs\u001b[0m\u001b[0;34m=\u001b[0m\u001b[0mattrs\u001b[0m\u001b[0;34m,\u001b[0m\u001b[0;34m\u001b[0m\u001b[0;34m\u001b[0m\u001b[0m\n\u001b[0;32m--> 603\u001b[0;31m               ctx=ctx)\n\u001b[0m\u001b[1;32m    604\u001b[0m         \u001b[0;32melse\u001b[0m\u001b[0;34m:\u001b[0m\u001b[0;34m\u001b[0m\u001b[0;34m\u001b[0m\u001b[0m\n\u001b[1;32m    605\u001b[0m           outputs = execute.execute_with_cancellation(\n",
            "\u001b[0;32m/usr/local/lib/python3.7/dist-packages/tensorflow/python/eager/execute.py\u001b[0m in \u001b[0;36mquick_execute\u001b[0;34m(op_name, num_outputs, inputs, attrs, ctx, name)\u001b[0m\n\u001b[1;32m     57\u001b[0m     \u001b[0mctx\u001b[0m\u001b[0;34m.\u001b[0m\u001b[0mensure_initialized\u001b[0m\u001b[0;34m(\u001b[0m\u001b[0;34m)\u001b[0m\u001b[0;34m\u001b[0m\u001b[0;34m\u001b[0m\u001b[0m\n\u001b[1;32m     58\u001b[0m     tensors = pywrap_tfe.TFE_Py_Execute(ctx._handle, device_name, op_name,\n\u001b[0;32m---> 59\u001b[0;31m                                         inputs, attrs, num_outputs)\n\u001b[0m\u001b[1;32m     60\u001b[0m   \u001b[0;32mexcept\u001b[0m \u001b[0mcore\u001b[0m\u001b[0;34m.\u001b[0m\u001b[0m_NotOkStatusException\u001b[0m \u001b[0;32mas\u001b[0m \u001b[0me\u001b[0m\u001b[0;34m:\u001b[0m\u001b[0;34m\u001b[0m\u001b[0;34m\u001b[0m\u001b[0m\n\u001b[1;32m     61\u001b[0m     \u001b[0;32mif\u001b[0m \u001b[0mname\u001b[0m \u001b[0;32mis\u001b[0m \u001b[0;32mnot\u001b[0m \u001b[0;32mNone\u001b[0m\u001b[0;34m:\u001b[0m\u001b[0;34m\u001b[0m\u001b[0;34m\u001b[0m\u001b[0m\n",
            "\u001b[0;31mKeyboardInterrupt\u001b[0m: "
          ]
        }
      ]
    },
    {
      "cell_type": "code",
      "source": [
        "#test generator\n",
        "image = generator(noise, training=False)\n",
        "\n",
        "plt.imshow(image[0, :, :, 0])\n",
        "\n",
        "#test discriminator \n",
        "result = discriminator(generated_image)\n",
        "print(result)"
      ],
      "metadata": {
        "id": "3UklMWaI_BI9"
      },
      "execution_count": null,
      "outputs": []
    },
    {
      "cell_type": "code",
      "source": [
        ""
      ],
      "metadata": {
        "id": "Ol7ko-7DESoK"
      },
      "execution_count": null,
      "outputs": []
    }
  ]
}