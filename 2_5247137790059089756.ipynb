{
  "nbformat": 4,
  "nbformat_minor": 0,
  "metadata": {
    "colab": {
      "name": "IANNWTF_HW4_group39",
      "provenance": []
    },
    "kernelspec": {
      "name": "python3",
      "display_name": "Python 3"
    },
    "language_info": {
      "name": "python"
    }
  },
  "cells": [
    {
      "cell_type": "code",
      "metadata": {
        "id": "dv_VmW52IoNK"
      },
      "source": [
        "# Import required packages\n",
        "import tensorflow as tf\n",
        "import tensorflow_datasets as tfds\n",
        "import matplotlib.pyplot as plt\n",
        "import numpy as np\n",
        "import pandas as pd"
      ],
      "execution_count": 3,
      "outputs": []
    },
    {
      "cell_type": "code",
      "metadata": {
        "id": "S94NIO2UL5ag"
      },
      "source": [
        "# Import the dataset\n",
        "df = pd.read_csv(\"winequality-red.csv\", sep = ';')"
      ],
      "execution_count": 4,
      "outputs": []
    },
    {
      "cell_type": "code",
      "metadata": {
        "id": "j6Gd5Cn-ON4r"
      },
      "source": [
        "# Split the whole dataset into training, validation and test subsets\n",
        "train_ds = df.sample(frac=0.7, random_state=200)\n",
        "df_new = df.drop(train_ds.index)\n",
        "valid_ds = df_new.sample(frac=0.5, random_state=200)\n",
        "test_ds = df_new.drop(valid_ds.index)"
      ],
      "execution_count": 5,
      "outputs": []
    },
    {
      "cell_type": "code",
      "metadata": {
        "colab": {
          "base_uri": "https://localhost:8080/"
        },
        "id": "yCEWrRAXZOJ1",
        "outputId": "cf8c791e-1641-4edf-b8a7-fba2e72506f6"
      },
      "source": [
        "print(train_ds)"
      ],
      "execution_count": 6,
      "outputs": [
        {
          "output_type": "stream",
          "name": "stdout",
          "text": [
            "      fixed acidity  volatile acidity  citric acid  ...  sulphates  alcohol  quality\n",
            "366            12.8             0.615         0.66  ...       0.73     10.0        7\n",
            "1325            6.7             0.460         0.24  ...       0.60     10.6        6\n",
            "133             6.6             0.500         0.01  ...       0.58      9.8        6\n",
            "1418            7.8             0.530         0.01  ...       0.46      9.8        5\n",
            "1258            6.8             0.640         0.00  ...       0.63     11.3        6\n",
            "...             ...               ...          ...  ...        ...      ...      ...\n",
            "1386            7.4             0.640         0.07  ...       0.58      9.6        5\n",
            "721             8.9             0.480         0.24  ...       0.53      9.2        5\n",
            "267             7.9             0.350         0.46  ...       0.86     12.8        8\n",
            "1543           11.1             0.440         0.42  ...       0.57     10.4        6\n",
            "1593            6.8             0.620         0.08  ...       0.82      9.5        6\n",
            "\n",
            "[1119 rows x 12 columns]\n"
          ]
        }
      ]
    },
    {
      "cell_type": "code",
      "metadata": {
        "colab": {
          "base_uri": "https://localhost:8080/"
        },
        "id": "NfOIMdHBy95H",
        "outputId": "190cf3cf-36fe-4826-c4b9-18020a147b5e"
      },
      "source": [
        "# Compute median for the quality column\n",
        "data_set = (df-df.min())/(df.max()-df.min())\n",
        "median = data_set[[\"quality\"]].median()\n",
        "print(median)"
      ],
      "execution_count": 8,
      "outputs": [
        {
          "output_type": "stream",
          "name": "stdout",
          "text": [
            "quality    0.6\n",
            "dtype: float64\n"
          ]
        }
      ]
    },
    {
      "cell_type": "code",
      "metadata": {
        "id": "OTs4lM9DycTY"
      },
      "source": [
        "# Function for turning all values equal or greater than median into 1\n",
        "def make_binary(target):\n",
        "  if target >= median:\n",
        "    return 1\n",
        "  else: return 0"
      ],
      "execution_count": 9,
      "outputs": []
    },
    {
      "cell_type": "code",
      "metadata": {
        "id": "VJwy-wq0i-a7"
      },
      "source": [
        "# Data pipeline for training subset\n",
        "# Separate labels from inputs\n",
        "train_inputs = train_ds.drop('quality', axis=1)\n",
        "train_labels = train_ds[['quality']]\n",
        "\n",
        "# Build a Tensorflow Dataset\n",
        "train_input = tf.data.Dataset.from_tensor_slices(train_inputs)\n",
        "train_label = tf.data.Dataset.from_tensor_slices(train_labels)\n",
        "train_label = train_label.map(make_binary)\n",
        "train_ds = tf.data.Dataset.zip((train_input, train_label))\n",
        "\n",
        "train_ds = train_ds.shuffle(1000).batch(8).prefetch(20)"
      ],
      "execution_count": 10,
      "outputs": []
    },
    {
      "cell_type": "code",
      "metadata": {
        "id": "F8hkC-wHyrEu",
        "colab": {
          "base_uri": "https://localhost:8080/",
          "height": 229
        },
        "outputId": "52aa9448-a4c6-4c43-d920-b7828e7a892a"
      },
      "source": [
        "# Data pipeline for validation subset\n",
        "# Separate labels from inputs\n",
        "valid_inputs = valid_ds.drop('quality', axis=1)\n",
        "valid_labels = valid_ds[['quality']]\n",
        "\n",
        "# Build a Tensorflow Dataset\n",
        "valid_input = tf.data.Dataset.from_tensor_slices(valid_inputs)\n",
        "valid_label = tf.data.Dataset.from_tensor_slices(valid_labels)\n",
        "valid_label = valid_label.map(make_binary)\n",
        "valid_ds = tf.data.Dataset.zip((valid_input, valid_label))\n",
        "\n",
        "valid_ds = valid_ds.shuffle(1000).batch(8).prefetch(20)"
      ],
      "execution_count": 14,
      "outputs": [
        {
          "output_type": "error",
          "ename": "AttributeError",
          "evalue": "ignored",
          "traceback": [
            "\u001b[0;31m---------------------------------------------------------------------------\u001b[0m",
            "\u001b[0;31mAttributeError\u001b[0m                            Traceback (most recent call last)",
            "\u001b[0;32m<ipython-input-14-f0f048bee368>\u001b[0m in \u001b[0;36m<module>\u001b[0;34m()\u001b[0m\n\u001b[1;32m      1\u001b[0m \u001b[0;31m# Data pipeline for validation subset\u001b[0m\u001b[0;34m\u001b[0m\u001b[0;34m\u001b[0m\u001b[0;34m\u001b[0m\u001b[0m\n\u001b[1;32m      2\u001b[0m \u001b[0;31m# Separate labels from inputs\u001b[0m\u001b[0;34m\u001b[0m\u001b[0;34m\u001b[0m\u001b[0;34m\u001b[0m\u001b[0m\n\u001b[0;32m----> 3\u001b[0;31m \u001b[0mvalid_inputs\u001b[0m \u001b[0;34m=\u001b[0m \u001b[0mvalid_ds\u001b[0m\u001b[0;34m.\u001b[0m\u001b[0mdrop\u001b[0m\u001b[0;34m(\u001b[0m\u001b[0;34m'quality'\u001b[0m\u001b[0;34m,\u001b[0m \u001b[0maxis\u001b[0m\u001b[0;34m=\u001b[0m\u001b[0;36m1\u001b[0m\u001b[0;34m)\u001b[0m\u001b[0;34m\u001b[0m\u001b[0;34m\u001b[0m\u001b[0m\n\u001b[0m\u001b[1;32m      4\u001b[0m \u001b[0mvalid_labels\u001b[0m \u001b[0;34m=\u001b[0m \u001b[0mvalid_ds\u001b[0m\u001b[0;34m[\u001b[0m\u001b[0;34m[\u001b[0m\u001b[0;34m'quality'\u001b[0m\u001b[0;34m]\u001b[0m\u001b[0;34m]\u001b[0m\u001b[0;34m\u001b[0m\u001b[0;34m\u001b[0m\u001b[0m\n\u001b[1;32m      5\u001b[0m \u001b[0;34m\u001b[0m\u001b[0m\n",
            "\u001b[0;31mAttributeError\u001b[0m: 'ZipDataset' object has no attribute 'drop'"
          ]
        }
      ]
    },
    {
      "cell_type": "code",
      "metadata": {
        "id": "GFBXAN51y66C"
      },
      "source": [
        "# Data pipeline for test subset\n",
        "# Separate labels from inputs\n",
        "test_inputs = test_ds.drop('quality', axis=1)\n",
        "test_labels = test_ds[['quality']]\n",
        "\n",
        "# Build a Tensorflow Dataset\n",
        "test_input = tf.data.Dataset.from_tensor_slices(test_inputs)\n",
        "test_label = tf.data.Dataset.from_tensor_slices(test_labels)\n",
        "test_label = test_label.map(make_binary)\n",
        "test_ds = tf.data.Dataset.zip((test_input, test_label))\n",
        "\n",
        "test_ds = test_ds.shuffle(1000).batch(8).prefetch(20)"
      ],
      "execution_count": 15,
      "outputs": []
    },
    {
      "cell_type": "code",
      "metadata": {
        "id": "gb9MY4WxRMBI"
      },
      "source": [
        "# Custom Model\n",
        "class MyModel(tf.keras.Model):\n",
        "    \n",
        "    def __init__(self):\n",
        "        super(MyModel, self).__init__()\n",
        "        regularizer = tf.keras.regularizers.L1(l1=0.01)\n",
        "\n",
        "        self.dense1 = tf.keras.layers.Dense(190, \n",
        "                                            activation = tf.nn.sigmoid,\n",
        "                                            kernel_regularizer=regularizer)\n",
        "        self.dense2 = tf.keras.layers.Dense(190, \n",
        "                                            activation = tf.nn.sigmoid,\n",
        "                                            kernel_regularizer=regularizer)\n",
        "        self.out = tf.keras.layers.Dense(1, activation = tf.nn.sigmoid,\n",
        "                                         kernel_regularizer=regularizer)\n",
        "\n",
        "    def call(self, inputs):\n",
        "        x = self.dense1(inputs)\n",
        "        x = self.dense2(x)\n",
        "        out = self.out(x)\n",
        "        return out\n",
        "\n",
        "\n",
        "\n",
        "# Custom Layer\n",
        "class SimpleDense(tf.keras.layers.Layer):\n",
        "\n",
        "    def __init__(self, units, activation):\n",
        "        super(SimpleDense, self).__init__()\n",
        "        self.units = units\n",
        "        self.activation = activation\n",
        "\n",
        "    def build(self, input_shape): \n",
        "        self.w = self.add_weight(shape=(input_shape[-1], self.units),\n",
        "                               initializer='random_normal',\n",
        "                               trainable=True)\n",
        "        self.b = self.add_weight(shape=(self.units,),\n",
        "                               initializer='random_normal',\n",
        "                               trainable=True)\n",
        "\n",
        "    def call(self, inputs): \n",
        "        x = tf.matmul(inputs, self.w) + self.b\n",
        "        x = self.activation(x)\n",
        "        return x"
      ],
      "execution_count": 175,
      "outputs": []
    },
    {
      "cell_type": "code",
      "metadata": {
        "id": "Ng4gm2AFWilP"
      },
      "source": [
        "def train_step(model, input, target, loss_function, optimizer):\n",
        "  # loss_object and optimizer_object are instances of respective tensorflow classes\n",
        "  with tf.GradientTape() as tape:\n",
        "    prediction = model(input)\n",
        "    loss = loss_function(target, prediction)\n",
        "    gradients = tape.gradient(loss, model.trainable_variables)\n",
        "  optimizer.apply_gradients(zip(gradients, model.trainable_variables))\n",
        "  return loss\n",
        "\n",
        "def test(model, test_data, loss_function):\n",
        "  # test over complete test data\n",
        "\n",
        "  test_accuracy_aggregator = []\n",
        "  test_loss_aggregator = []\n",
        "\n",
        "  for (input, target) in test_data:\n",
        "    prediction = model(input)\n",
        "    sample_test_loss = loss_function(target, prediction)\n",
        "    #sample_test_accuracy =  np.argmax(target, axis=1) == np.argmax(prediction, axis=1)\n",
        "    sample_test_accuracy = np.round(target, 0) == np.round(prediction, 0)\n",
        "    sample_test_accuracy = np.mean(sample_test_accuracy)\n",
        "    test_loss_aggregator.append(sample_test_loss.numpy())\n",
        "    test_accuracy_aggregator.append(np.mean(sample_test_accuracy))\n",
        "\n",
        "  test_loss = tf.reduce_mean(test_loss_aggregator)\n",
        "  test_accuracy = tf.reduce_mean(test_accuracy_aggregator)\n",
        "\n",
        "  return test_loss, test_accuracy"
      ],
      "execution_count": 176,
      "outputs": []
    },
    {
      "cell_type": "code",
      "metadata": {
        "colab": {
          "base_uri": "https://localhost:8080/"
        },
        "id": "U_s-PwWhWnwU",
        "outputId": "dd47823f-02cf-44f8-d46f-16a4336e5d1e"
      },
      "source": [
        "#tf.keras.backend.clear_session()\n",
        "\n",
        "#For showcasing we only use a subset of the training and test data (generally use all of the available data!)\n",
        "train_dataset = train_ds\n",
        "test_dataset = test_ds\n",
        "\n",
        "### Hyperparameters\n",
        "num_epochs = 10\n",
        "learning_rate = 0.1\n",
        "callback = tf.keras.callbacks.EarlyStopping(monitor='loss', patience=3)\n",
        "# Initialize the model.\n",
        "model = MyModel()\n",
        "# Initialize the loss: categorical cross entropy. Check out 'tf.keras.losses'.\n",
        "cross_entropy_loss = tf.keras.losses.BinaryCrossentropy()\n",
        "# Initialize the optimizer: SGD with default parameters. Check out 'tf.keras.optimizers'\n",
        "optimizer = tf.keras.optimizers.SGD(learning_rate)\n",
        "\n",
        "# Initialize lists for later visualization.\n",
        "train_losses = []\n",
        "\n",
        "test_losses = []\n",
        "test_accuracies = []\n",
        "\n",
        "#testing once before we begin\n",
        "test_loss, test_accuracy = test(model, test_dataset, cross_entropy_loss)\n",
        "test_losses.append(test_loss)\n",
        "test_accuracies.append(test_accuracy)\n",
        "\n",
        "#check how model performs on train data once before we begin\n",
        "train_loss, _ = test(model, train_dataset, cross_entropy_loss)\n",
        "train_losses.append(train_loss)\n",
        "\n",
        "# We train for num_epochs epochs.\n",
        "for epoch in range(num_epochs):\n",
        "    print(f'Epoch: {str(epoch)} starting with accuracy {test_accuracies[-1]}')\n",
        "\n",
        "    #training (and checking in with training)\n",
        "    epoch_loss_agg = []\n",
        "    for input,target in train_dataset:\n",
        "        train_loss = train_step(model, input, target, cross_entropy_loss, optimizer)\n",
        "        epoch_loss_agg.append(train_loss)\n",
        "    \n",
        "    #track training loss\n",
        "    train_losses.append(tf.reduce_mean(epoch_loss_agg))\n",
        "\n",
        "    #testing, so we can track accuracy and test loss\n",
        "    test_loss, test_accuracy = test(model, test_dataset, cross_entropy_loss)\n",
        "    test_losses.append(test_loss)\n",
        "    test_accuracies.append(test_accuracy)"
      ],
      "execution_count": 177,
      "outputs": [
        {
          "output_type": "stream",
          "name": "stdout",
          "text": [
            "Epoch: 0 starting with accuracy 0.4955357142857143\n",
            "Epoch: 1 starting with accuracy 0.5044642857142857\n",
            "Epoch: 2 starting with accuracy 0.5094866071428572\n",
            "Epoch: 3 starting with accuracy 0.5597098214285714\n",
            "Epoch: 4 starting with accuracy 0.5390625\n",
            "Epoch: 5 starting with accuracy 0.5803571428571428\n",
            "Epoch: 6 starting with accuracy 0.5122767857142857\n",
            "Epoch: 7 starting with accuracy 0.5446428571428572\n",
            "Epoch: 8 starting with accuracy 0.52734375\n",
            "Epoch: 9 starting with accuracy 0.5345982142857143\n"
          ]
        }
      ]
    },
    {
      "cell_type": "code",
      "metadata": {
        "id": "5kAI1b6EWt71",
        "colab": {
          "base_uri": "https://localhost:8080/",
          "height": 279
        },
        "outputId": "61ca3dc9-2a19-41dd-cdfc-50a7a1fc8a39"
      },
      "source": [
        "import matplotlib.pyplot as plt\n",
        "\n",
        "# Visualize accuracy and loss for training and test data.\n",
        "plt.figure()\n",
        "line1, = plt.plot(train_losses)\n",
        "line2, = plt.plot(test_losses)\n",
        "line3, = plt.plot(test_accuracies)\n",
        "plt.xlabel(\"Training steps\")\n",
        "plt.ylabel(\"Loss/Accuracy\")\n",
        "plt.legend((line1,line2, line3),(\"training\",\"test\", \"test accuracy\"))\n",
        "plt.show()"
      ],
      "execution_count": 133,
      "outputs": [
        {
          "output_type": "display_data",
          "data": {
            "image/png": "[encoded data removed]",
            "text/plain": [
              "<Figure size 432x288 with 1 Axes>"
            ]
          },
          "metadata": {
            "needs_background": "light"
          }
        }
      ]
    }
  ]
}